{
 "cells": [
  {
   "cell_type": "code",
   "execution_count": 81,
   "metadata": {},
   "outputs": [
    {
     "name": "stdout",
     "output_type": "stream",
     "text": [
      "Using environment in /Users/emunsing/Documents/Coding/github/cdips_hpi_forecast/env\n",
      "Python version 3.5.2 (default, Oct 31 2016, 16:50:28) \n",
      "[GCC 4.2.1 Compatible Apple LLVM 7.3.0 (clang-703.0.31)]\n"
     ]
    }
   ],
   "source": [
    "import pandas as pd\n",
    "import numpy  as np\n",
    "import matplotlib.pyplot as plt\n",
    "from matplotlib.pyplot import cm\n",
    "% matplotlib inline\n",
    "\n",
    "import sys, os, copy\n",
    "print(\"Using environment in \"+sys.prefix)\n",
    "print(\"Python version \"+sys.version)"
   ]
  },
  {
   "cell_type": "code",
   "execution_count": 2,
   "metadata": {
    "collapsed": true
   },
   "outputs": [],
   "source": [
    "fname = 'Metro_Zhvi_AllHomes.csv'\n",
    "\n",
    "#  Map Zillow RegionID to metro area string\n",
    "metroRegionID = {'Dallas-Fort Worth, TX':394514,\n",
    "                     'Atlanta, GA':394347,\n",
    "                     'Phoenix, AZ':394976,\n",
    "                     'Las Vegas, NV':394775 }\n",
    "\n",
    "metroString = {'Dallas':u'Dallas-Fort Worth, TX',\n",
    "               'Atlanta':u'Atlanta, GA',\n",
    "               'Phoenix':u'Phoenix, AZ',\n",
    "               'Vegas':u'Las Vegas, NV'}\n",
    "\n",
    "df = pd.read_csv('Data/ZHVI/'+fname,index_col=[1])\n",
    "df = df.drop(['RegionID','SizeRank'],axis=1)\n",
    "df.columns = pd.DatetimeIndex(df.columns)\n"
   ]
  },
  {
   "cell_type": "markdown",
   "metadata": {},
   "source": [
    "# Nearest-neighbor approach\n",
    "\n",
    "Look for the towns that provide good leading indicators for each city of interest. Would like to say \"Hey, the albequerque market just went through a drop last month; we'll probably be doing the same this month\"\n",
    "\n",
    "- Drop all the datasets which don't have data for 2004 onwards\n",
    "\n",
    "For each city\n",
    "- Save the target series\n",
    "- Shift all the other data by x months\n",
    "- Compute the nearest neighbor between the target and the shifted data\n",
    "- Save the RMSE and city for that lag\n",
    "\n",
    "Repeat for different shift lengths (different values of x)."
   ]
  },
  {
   "cell_type": "code",
   "execution_count": 15,
   "metadata": {},
   "outputs": [
    {
     "data": {
      "text/plain": [
       "(481, 254)"
      ]
     },
     "execution_count": 15,
     "metadata": {},
     "output_type": "execute_result"
    }
   ],
   "source": [
    "# Drop all dates that don't have the minimum amount of data\n",
    "dataStartsBefore = 2004\n",
    "minMonths = (2017 - dataStartsBefore) * 12\n",
    "df = df.drop(df.index[df.count(axis=1) < minMonths], axis=0)\n",
    "df.shape"
   ]
  },
  {
   "cell_type": "code",
   "execution_count": 80,
   "metadata": {},
   "outputs": [
    {
     "data": {
      "text/html": [
       "<div>\n",
       "<style>\n",
       "    .dataframe thead tr:only-child th {\n",
       "        text-align: right;\n",
       "    }\n",
       "\n",
       "    .dataframe thead th {\n",
       "        text-align: left;\n",
       "    }\n",
       "\n",
       "    .dataframe tbody tr th {\n",
       "        vertical-align: top;\n",
       "    }\n",
       "</style>\n",
       "<table border=\"1\" class=\"dataframe\">\n",
       "  <thead>\n",
       "    <tr style=\"text-align: right;\">\n",
       "      <th></th>\n",
       "      <th>1</th>\n",
       "      <th>2</th>\n",
       "      <th>3</th>\n",
       "      <th>4</th>\n",
       "      <th>5</th>\n",
       "      <th>6</th>\n",
       "      <th>best</th>\n",
       "      <th>bestLag</th>\n",
       "      <th>bestLoc</th>\n",
       "    </tr>\n",
       "  </thead>\n",
       "  <tbody>\n",
       "    <tr>\n",
       "      <th>Atlanta</th>\n",
       "      <td>2.144748</td>\n",
       "      <td>2.177312</td>\n",
       "      <td>2.146770</td>\n",
       "      <td>2.122897</td>\n",
       "      <td>2.125478</td>\n",
       "      <td>2.121102</td>\n",
       "      <td>2.121102</td>\n",
       "      <td>6</td>\n",
       "      <td>Cleveland, OH</td>\n",
       "    </tr>\n",
       "    <tr>\n",
       "      <th>Phoenix</th>\n",
       "      <td>3.729301</td>\n",
       "      <td>3.962419</td>\n",
       "      <td>3.979273</td>\n",
       "      <td>3.900940</td>\n",
       "      <td>3.905888</td>\n",
       "      <td>4.000408</td>\n",
       "      <td>3.729301</td>\n",
       "      <td>1</td>\n",
       "      <td>Tucson, AZ</td>\n",
       "    </tr>\n",
       "    <tr>\n",
       "      <th>Dallas</th>\n",
       "      <td>2.449048</td>\n",
       "      <td>2.451128</td>\n",
       "      <td>2.427014</td>\n",
       "      <td>2.396366</td>\n",
       "      <td>2.352487</td>\n",
       "      <td>2.286828</td>\n",
       "      <td>2.286828</td>\n",
       "      <td>6</td>\n",
       "      <td>Lincoln, NE</td>\n",
       "    </tr>\n",
       "    <tr>\n",
       "      <th>Vegas</th>\n",
       "      <td>4.607465</td>\n",
       "      <td>4.644182</td>\n",
       "      <td>4.754334</td>\n",
       "      <td>4.923742</td>\n",
       "      <td>5.152675</td>\n",
       "      <td>5.440050</td>\n",
       "      <td>4.607465</td>\n",
       "      <td>1</td>\n",
       "      <td>Riverside, CA</td>\n",
       "    </tr>\n",
       "  </tbody>\n",
       "</table>\n",
       "</div>"
      ],
      "text/plain": [
       "                1         2         3         4         5         6      best  \\\n",
       "Atlanta  2.144748  2.177312  2.146770  2.122897  2.125478  2.121102  2.121102   \n",
       "Phoenix  3.729301  3.962419  3.979273  3.900940  3.905888  4.000408  3.729301   \n",
       "Dallas   2.449048  2.451128  2.427014  2.396366  2.352487  2.286828  2.286828   \n",
       "Vegas    4.607465  4.644182  4.754334  4.923742  5.152675  5.440050  4.607465   \n",
       "\n",
       "         bestLag        bestLoc  \n",
       "Atlanta        6  Cleveland, OH  \n",
       "Phoenix        1     Tucson, AZ  \n",
       "Dallas         6    Lincoln, NE  \n",
       "Vegas          1  Riverside, CA  "
      ]
     },
     "execution_count": 80,
     "metadata": {},
     "output_type": "execute_result"
    }
   ],
   "source": [
    "cityList = list(metroString.keys())\n",
    "# For each shift period, we want to store the quality of the fit, and the city which is the best fit\n",
    "resultRMSE = pd.DataFrame()  # We'll get this RMSE...\n",
    "resultCity = pd.DataFrame()  # ...when we use this city\n",
    "\n",
    "for city in cityList:\n",
    "    # Compute the 6-month percent differences for our target city...\n",
    "    ts = df.loc[metroString[city],:]\n",
    "    ts = ts.shift(-6)/ts - 1\n",
    "    ts = ts * 100\n",
    "\n",
    "    # And compute the 6-month percent differences for everywhere else.\n",
    "    compareWith = df.drop(metroString[city],axis=0)\n",
    "    compareWith = compareWith.shift(-6,axis=1)/compareWith - 1\n",
    "    compareWith = compareWith * 100\n",
    "    \n",
    "    for shiftBy in range(1,7):\n",
    "        # Shift the reference dataset, compute the RMSE relative to the actual, and save the results\n",
    "        shifted = compareWith.shift(shiftBy,axis=1)\n",
    "        diff = shifted - ts\n",
    "        \n",
    "        rmse = (np.sqrt(diff.pow(2).sum(axis=1) / diff.count(axis=1)))  # Note: Diff.count() will exclude NaNs\n",
    "        resultRMSE.loc[city, shiftBy] = rmse.min()\n",
    "        resultCity.loc[city, shiftBy] = rmse.idxmin()\n",
    "        \n",
    "resultRMSE['best'] = resultRMSE.min(axis=1)\n",
    "resultRMSE['bestLag'] = resultRMSE.idxmin(axis=1)\n",
    "\n",
    "for thisCity in resultCity.index.values:\n",
    "    resultRMSE.loc[thisCity,'bestLoc'] = resultCity.loc[thisCity,resultRMSE.loc[thisCity,'bestLag']]\n",
    "    \n",
    "resultRMSE\n"
   ]
  }
 ],
 "metadata": {
  "kernelspec": {
   "display_name": "Python 3",
   "language": "python",
   "name": "python3"
  },
  "language_info": {
   "codemirror_mode": {
    "name": "ipython",
    "version": 3
   },
   "file_extension": ".py",
   "mimetype": "text/x-python",
   "name": "python",
   "nbconvert_exporter": "python",
   "pygments_lexer": "ipython3",
   "version": "3.5.2"
  }
 },
 "nbformat": 4,
 "nbformat_minor": 2
}
