{
 "cells": [
  {
   "cell_type": "markdown",
   "metadata": {},
   "source": [
    "## Potential Data\n",
    "- Unemployment data\n",
    "- Consumer sentiment data\n",
    "- Bank interest rate\n",
    "- Mortgage interest rate\n",
    "- Consumer credit scores\n",
    "- Corporate earnings or EPS\n",
    "- Unemployment claims\n",
    "- Vix or other volatility indicator\n",
    "\n",
    "# Generate these files:\n",
    "- National metrics at monthly intervals\n",
    "- National metrics at weekly intervals\n",
    "- Local metrics at monthly intervals\n",
    "- Local metrics at weekly intervals"
   ]
  },
  {
   "cell_type": "code",
   "execution_count": 227,
   "metadata": {},
   "outputs": [
    {
     "name": "stdout",
     "output_type": "stream",
     "text": [
      "Using environment in /Users/emunsing/Documents/Coding/github/cdips_hpi_forecast/env\n",
      "Python version 3.5.2 (default, Oct 31 2016, 16:50:28) \n",
      "[GCC 4.2.1 Compatible Apple LLVM 7.3.0 (clang-703.0.31)]\n"
     ]
    }
   ],
   "source": [
    "import pandas as pd\n",
    "import numpy  as np\n",
    "import matplotlib.pyplot as plt\n",
    "from matplotlib.pyplot import cm \n",
    "% matplotlib inline\n",
    "\n",
    "import sys, os, copy\n",
    "print(\"Using environment in \"+sys.prefix)\n",
    "print(\"Python version \"+sys.version)\n"
   ]
  },
  {
   "cell_type": "code",
   "execution_count": 248,
   "metadata": {
    "collapsed": true
   },
   "outputs": [],
   "source": [
    "cityList = ['Dallas', 'Atlanta','Phoenix','Vegas']\n",
    "nationalMonthly = pd.DataFrame()\n",
    "nationalWeekly = pd.DataFrame()\n",
    "metroMonthly = {city:pd.DataFrame() for city in cityList}  # Create a dictionary of DataFrames for storing the city-specific data\n",
    "metroWeekly = {city:pd.DataFrame() for city in cityList}  # Create a dictionary of DataFrames for storing the city-specific data\n"
   ]
  },
  {
   "cell_type": "markdown",
   "metadata": {},
   "source": [
    "## Regional Unemployment Data And Labor Force\n",
    "\n",
    "From [Bureau of Labor Statistics seasonally adjusted unemployment data](https://www.bls.gov/lau/metrossa.htm)\n"
   ]
  },
  {
   "cell_type": "code",
   "execution_count": 249,
   "metadata": {
    "collapsed": true
   },
   "outputs": [],
   "source": [
    "metroString = {'Dallas' : 'Dallas-Fort Worth-Arlington, TX MSA',\n",
    "               'Atlanta': 'Atlanta-Sandy Springs-Roswell, GA MSA',\n",
    "               'Phoenix': 'Phoenix-Mesa-Scottsdale, AZ MSA',\n",
    "               'Vegas'  : 'Las Vegas-Henderson-Paradise, NV MSA'}\n",
    "\n",
    "df = pd.read_excel('Data/Unemployment/ssamatab1.xlsx',header=2,parse_dates=[['Year','Month']])\n",
    "df.dropna(inplace=True)\n",
    "df.index = pd.DatetimeIndex(df['Year_Month'])\n",
    "del df.index.name\n",
    "df['unemployRate'] = df['Unemployment']/df['Civilian Labor Force'] * 100  # This gives us more significant digits\n",
    "\n",
    "for city in metroString.keys():\n",
    "    cityData = df[df['Area']==metroString[city]]\n",
    "    metroMonthly[city]['metroUnemployment'] = cityData['unemployRate']\n",
    "    metroMonthly[city]['metroLaborForce']   = cityData['Civilian Labor Force']"
   ]
  },
  {
   "cell_type": "markdown",
   "metadata": {},
   "source": [
    "# National Consumer Sentiment Index (U. of Michigan)"
   ]
  },
  {
   "cell_type": "code",
   "execution_count": 250,
   "metadata": {
    "collapsed": true
   },
   "outputs": [],
   "source": [
    "df = pd.read_excel('Data/consumer_sentiment/UMCSI.xls',header=3,parse_dates=[[0,1]]).dropna()  # Dates are in columns 0 and 1\n",
    "df.index = pd.DatetimeIndex(df[df.columns[0]])\n",
    "del df.index.name\n",
    "nationalMonthly['csi'] = df['CURRENT INDEX']"
   ]
  },
  {
   "cell_type": "markdown",
   "metadata": {},
   "source": [
    "# National Consumer Price Index (Bureau of Labor Statistics)"
   ]
  },
  {
   "cell_type": "code",
   "execution_count": 251,
   "metadata": {},
   "outputs": [],
   "source": [
    "# Expects tabular data with columns for each month and for 'HALF1','HALF2'\n",
    "# Need to pivot/stack data to be able to get values in a Series, then create date\n",
    "\n",
    "df = pd.read_excel('Data/ConsumerPriceIndex/CPI.xlsx',header=11).drop(['HALF1','HALF2'],axis=1)\n",
    "df = df.set_index('Year',drop=True)\n",
    "df = df.stack()\n",
    "df.index.rename(['Year','Month'],inplace=True)\n",
    "df = df.reset_index()\n",
    "df.index = pd.DatetimeIndex(pd.to_datetime(df['Month'].astype(str) + ' ' + df['Year'].astype(str)))\n",
    "nationalMonthly['cpi'] = df[0]"
   ]
  },
  {
   "cell_type": "markdown",
   "metadata": {},
   "source": [
    "# Weekly Unemployment claims - National and State\n",
    "\"Covered Employment\" (size of labor pool) is updated quarterly"
   ]
  },
  {
   "cell_type": "code",
   "execution_count": 266,
   "metadata": {},
   "outputs": [],
   "source": [
    "### NATIONAL-LEVEL WEEKLY UNEMPLOYMENT CLAIMS- SEASONALLY ADJUSTED!\n",
    "\n",
    "df = pd.read_excel('Data/Unemployment/WeeklyClaims/NationalWeeklyClaims.xlsx',header=[1,2])\n",
    "df = df.iloc[:-2,:]  # This gets rid of the blank line and \"Run date\" line\n",
    "df.index = pd.DatetimeIndex(df.index)\n",
    "\n",
    "nationalWeekly['natInitialUnemployment']   = df.loc[:,('Initial Claims',  'S.A.')]\n",
    "nationalWeekly['natInitialUnemployment4wk']= df.loc[:,('Initial Claims',  'S.A. 4-Week')]\n",
    "nationalWeekly['natContUnemployment']      = df.loc[:,('Continued Claims','S.A.')]\n",
    "nationalWeekly['natContUnemployment4wk']   = df.loc[:,('Continued Claims','S.A. 4-Week')]\n",
    "\n",
    "coveredEmployment = df.loc[:,('Covered Employment','Unnamed: 10_level_1')]\n",
    "coveredEmployment = coveredEmployment.resample('QS').mean()\n",
    "nationalMonthly['natLaborForce'] = coveredEmployment.resample('MS').interpolate()\n",
    "nationalMonthly['natInitialUnemployment'] = nationalWeekly['natInitialUnemployment4wk'].resample('MS').sum()\n",
    "nationalMonthly['natInitialUnemployment4wk'] = nationalWeekly['natInitialUnemployment4wk'].resample('MS').sum()\n",
    "nationalMonthly['natContUnemployment'] = nationalWeekly['natContUnemployment'].resample('MS').sum()\n",
    "nationalMonthly['natContUnemployment4wk'] = nationalWeekly['natContUnemployment4wk'].resample('MS').sum()\n",
    "\n",
    "### STATE-LEVEL  UNEMPLOYMENT DATA : NOT SEASONALLY ADJUSTED!!!\n",
    "stateDict   = {'Dallas' : 'Texas',\n",
    "               'Atlanta': 'Georgia',\n",
    "               'Phoenix': 'Arizona',\n",
    "               'Vegas'  : 'Nevada'}\n",
    "\n",
    "df = pd.read_excel('Data/Unemployment/WeeklyClaims/StateWeeklyClaims.xlsx', header=4)\n",
    "df = df.iloc[:-2,:]  # This gets rid of the blank line and \"Run date\" line\n",
    "df.index = pd.DatetimeIndex(df['Reflecting Week Ended'])\n",
    "del df.index.name\n",
    "\n",
    "# Parse the data for each city\n",
    "for city in cityList:\n",
    "    state = stateDict[city]\n",
    "    # Keep state unemployment at the weekly level\n",
    "    stateDf = df[df['State']==state]\n",
    "    metroWeekly[city]['stateInitialUnemplClaims']   = stateDf['Initial Claims']\n",
    "    metroWeekly[city]['stateContinuedUnemplClaims'] = stateDf['Continued Claims']\n",
    "    metroMonthly[city]['stateInitialUnemplClaims']  = stateDf['Initial Claims'].resample('MS').sum()\n",
    "    metroMonthly[city]['stateContinuedUnemplClaims']= stateDf['Continued Claims'].resample('MS').sum()\n",
    "\n",
    "    # Total labor force is computed quarterly; need to resample and interpolate\n",
    "    coveredEmployment = stateDf['Covered Employment']\n",
    "    coveredEmployment = coveredEmployment.resample('QS').mean()\n",
    "    metroMonthly[city]['stateLaborForce'] = coveredEmployment.resample('MS').interpolate().round()"
   ]
  },
  {
   "cell_type": "markdown",
   "metadata": {},
   "source": [
    "# Mortgage Interest Rates"
   ]
  },
  {
   "cell_type": "code",
   "execution_count": 194,
   "metadata": {},
   "outputs": [],
   "source": [
    "import pandas_datareader.data as web\n",
    "import datetime\n",
    "start = datetime.datetime(1990, 1, 1)\n",
    "end = datetime.datetime.today()"
   ]
  },
  {
   "cell_type": "code",
   "execution_count": 197,
   "metadata": {},
   "outputs": [],
   "source": [
    "df = web.DataReader(\"MORTGAGE30US\", \"fred\", start, end)"
   ]
  },
  {
   "cell_type": "code",
   "execution_count": 203,
   "metadata": {},
   "outputs": [
    {
     "data": {
      "text/plain": [
       "<matplotlib.axes._subplots.AxesSubplot at 0x10e012240>"
      ]
     },
     "execution_count": 203,
     "metadata": {},
     "output_type": "execute_result"
    },
    {
     "data": {
      "image/png": "[encoded data removed]",
      "text/plain": [
       "<matplotlib.figure.Figure at 0x10d9f64a8>"
      ]
     },
     "metadata": {},
     "output_type": "display_data"
    }
   ],
   "source": [
    "df.plot()"
   ]
  },
  {
   "cell_type": "markdown",
   "metadata": {},
   "source": [
    "# New approach"
   ]
  },
  {
   "cell_type": "code",
   "execution_count": null,
   "metadata": {
    "collapsed": true
   },
   "outputs": [],
   "source": [
    "### Fred Quarterly data:\n",
    "\"DRSFRMACBS\",\"\""
   ]
  },
  {
   "cell_type": "markdown",
   "metadata": {},
   "source": [
    "# Zillow Data"
   ]
  },
  {
   "cell_type": "code",
   "execution_count": 253,
   "metadata": {},
   "outputs": [],
   "source": [
    "# Monthly data\n",
    "inputFiles = {'inventoryAge': 'AgeOfInventory_Metro_Public.csv',  # Available after Q1 2010. Drop \"RegionType\tStateFullName\tDataTypeDescription\"\n",
    "              'daysOnZillow': 'DaysOnZillow_Public_Metro.csv',  # After 2010-01. Drop \"StateName\tRegionType\tCBSA Title\tSizeRank\"\n",
    "              'inventory'   : 'InventoryMeasure_SSA_Metro_Public.csv', #After 2010-01; smoothed & seasonally adjusted. drop \"RegionType\" \"StateFullName\" \"DataTypeDescription\"\n",
    "              'foreclosures': 'Metro_HomesSoldAsForeclosures-Ratio_AllHomes.csv', # After 1998\n",
    "              'pricecut'    : 'Metro_Listings_PriceCut_SeasAdj_AllHomes.csv', # After 2010-09\n",
    "              'sold4Gain'   : 'Metro_PctOfHomesSellingForGain_AllHomes.csv', # After 2001-01  (2012 for Phoenix)\n",
    "              'sold4Loss'   : 'Metro_PctOfHomesSellingForLoss_AllHomes.csv', # After 2001-01  (2012 for Phoenix)\n",
    "              'price2rent'  : 'Metro_PriceToRentRatio_AllHomes.csv',  # After 2010-10\n",
    "              'rentAllHomes': 'Metro_Zri_AllHomes.csv', # After 2010-11\n",
    "              'rentMultifam': 'Metro_Zri_MultiFamilyResidenceRental.csv', #After 2010-11\n",
    "              'rentSFR'     : 'Metro_Zri_SingleFamilyResidenceRental.csv' #After 2010-11\n",
    "             }\n",
    "\n",
    "#  Map Zillow RegionID to metro area string\n",
    "metroRegionID = {'Dallas-Fort Worth, TX':394514,\n",
    "                     'Atlanta, GA':394347,\n",
    "                     'Phoenix, AZ':394976,\n",
    "                     'Las Vegas, NV':394775 }\n",
    "\n",
    "metroString = {'Dallas':u'Dallas-Fort Worth, TX',\n",
    "               'Atlanta':u'Atlanta, GA',\n",
    "               'Phoenix':u'Phoenix, AZ',\n",
    "               'Vegas':u'Las Vegas, NV'}\n",
    "\n",
    "dropCols = ['RegionID','RegionType','SizeRank','StateFullName','DataTypeDescription','StateName','RegionType','CBSA Title']\n",
    "\n",
    "startDate = None\n",
    "endDate = None\n",
    "\n",
    "for fname in inputFiles.keys():\n",
    "    # Read data into a temporary data file, then pull out the city and time period which we want.\n",
    "    df = pd.read_csv('Data/ZHVI/'+inputFiles[fname])\n",
    "    df.set_index('RegionName',drop=True,inplace=True)\n",
    "    df = df.drop(dropCols,axis=1,errors='ignore')\n",
    "    df.columns = pd.DatetimeIndex(df.columns)\n",
    "    \n",
    "    for city in metroString.keys():\n",
    "        try:\n",
    "            metroMonthly[city][fname] = df.loc[ metroString[city],startDate:endDate]  # Note: Atlanta doesn't have foreclosure data\n",
    "        except KeyError:\n",
    "            pass\n",
    "\n",
    "# Quarterly data- currently just income\n",
    "df = pd.read_csv('Data/ZHVI/Affordability_Income_2017Q1.csv')\n",
    "df.set_index('RegionName',drop=True,inplace=True)\n",
    "df.drop(dropCols,axis=1,errors='ignore',inplace=True)\n",
    "df.columns = pd.DatetimeIndex(df.columns)\n",
    "df = df.T.resample('MS').interpolate().T   # Interpolation only works along rows!\n",
    "\n",
    "for city in metroString.keys():\n",
    "    metroMonthly[city]['metroIncome'] = df.loc[metroString[city],startDate:endDate]\n"
   ]
  },
  {
   "cell_type": "code",
   "execution_count": 262,
   "metadata": {},
   "outputs": [
    {
     "data": {
      "text/html": [
       "<div>\n",
       "<style>\n",
       "    .dataframe thead tr:only-child th {\n",
       "        text-align: right;\n",
       "    }\n",
       "\n",
       "    .dataframe thead th {\n",
       "        text-align: left;\n",
       "    }\n",
       "\n",
       "    .dataframe tbody tr th {\n",
       "        vertical-align: top;\n",
       "    }\n",
       "</style>\n",
       "<table border=\"1\" class=\"dataframe\">\n",
       "  <thead>\n",
       "    <tr style=\"text-align: right;\">\n",
       "      <th></th>\n",
       "      <th>metroUnemployment</th>\n",
       "      <th>metroLaborForce</th>\n",
       "      <th>stateInitialUnemplClaims</th>\n",
       "      <th>stateContinuedUnemplClaims</th>\n",
       "      <th>stateLaborForce</th>\n",
       "      <th>pricecut</th>\n",
       "      <th>inventory</th>\n",
       "      <th>foreclosures</th>\n",
       "      <th>sold4Loss</th>\n",
       "      <th>rentMultifam</th>\n",
       "      <th>price2rent</th>\n",
       "      <th>rentSFR</th>\n",
       "      <th>rentAllHomes</th>\n",
       "      <th>inventoryAge</th>\n",
       "      <th>sold4Gain</th>\n",
       "      <th>daysOnZillow</th>\n",
       "      <th>metroIncome</th>\n",
       "    </tr>\n",
       "  </thead>\n",
       "  <tbody>\n",
       "    <tr>\n",
       "      <th>2017-01-01</th>\n",
       "      <td>4.372032</td>\n",
       "      <td>2280244.0</td>\n",
       "      <td>17126.0</td>\n",
       "      <td>103441.0</td>\n",
       "      <td>2644857.0</td>\n",
       "      <td>17.951161</td>\n",
       "      <td>20996.0</td>\n",
       "      <td>1.1361</td>\n",
       "      <td>14.19</td>\n",
       "      <td>1169.0</td>\n",
       "      <td>14.51</td>\n",
       "      <td>1348.0</td>\n",
       "      <td>1325.0</td>\n",
       "      <td>71.0</td>\n",
       "      <td>85.81</td>\n",
       "      <td>76.50</td>\n",
       "      <td>57850.748928</td>\n",
       "    </tr>\n",
       "    <tr>\n",
       "      <th>2017-02-01</th>\n",
       "      <td>4.505980</td>\n",
       "      <td>2302385.0</td>\n",
       "      <td>14926.0</td>\n",
       "      <td>102187.0</td>\n",
       "      <td>2651409.0</td>\n",
       "      <td>18.289892</td>\n",
       "      <td>21224.0</td>\n",
       "      <td>1.0924</td>\n",
       "      <td>14.51</td>\n",
       "      <td>1167.0</td>\n",
       "      <td>14.53</td>\n",
       "      <td>1350.0</td>\n",
       "      <td>1325.0</td>\n",
       "      <td>62.0</td>\n",
       "      <td>85.49</td>\n",
       "      <td>75.25</td>\n",
       "      <td>57982.201923</td>\n",
       "    </tr>\n",
       "    <tr>\n",
       "      <th>2017-03-01</th>\n",
       "      <td>4.301741</td>\n",
       "      <td>2311111.0</td>\n",
       "      <td>16031.0</td>\n",
       "      <td>98029.0</td>\n",
       "      <td>2657960.0</td>\n",
       "      <td>18.797798</td>\n",
       "      <td>21545.0</td>\n",
       "      <td>1.0691</td>\n",
       "      <td>13.67</td>\n",
       "      <td>1164.0</td>\n",
       "      <td>14.58</td>\n",
       "      <td>1352.0</td>\n",
       "      <td>1326.0</td>\n",
       "      <td>54.0</td>\n",
       "      <td>86.33</td>\n",
       "      <td>68.75</td>\n",
       "      <td>58113.654917</td>\n",
       "    </tr>\n",
       "    <tr>\n",
       "      <th>2017-04-01</th>\n",
       "      <td>4.214475</td>\n",
       "      <td>2304415.0</td>\n",
       "      <td>27341.0</td>\n",
       "      <td>137549.0</td>\n",
       "      <td>2664512.0</td>\n",
       "      <td>18.363505</td>\n",
       "      <td>21601.0</td>\n",
       "      <td>0.7429</td>\n",
       "      <td>13.25</td>\n",
       "      <td>1162.0</td>\n",
       "      <td>14.55</td>\n",
       "      <td>1353.0</td>\n",
       "      <td>1327.0</td>\n",
       "      <td>48.0</td>\n",
       "      <td>86.75</td>\n",
       "      <td>65.00</td>\n",
       "      <td>NaN</td>\n",
       "    </tr>\n",
       "    <tr>\n",
       "      <th>2017-05-01</th>\n",
       "      <td>4.488021</td>\n",
       "      <td>2298051.0</td>\n",
       "      <td>17453.0</td>\n",
       "      <td>118559.0</td>\n",
       "      <td>2669723.0</td>\n",
       "      <td>19.340071</td>\n",
       "      <td>21298.0</td>\n",
       "      <td>0.4268</td>\n",
       "      <td>13.11</td>\n",
       "      <td>1164.0</td>\n",
       "      <td>14.53</td>\n",
       "      <td>1357.0</td>\n",
       "      <td>1331.0</td>\n",
       "      <td>48.0</td>\n",
       "      <td>86.89</td>\n",
       "      <td>64.00</td>\n",
       "      <td>NaN</td>\n",
       "    </tr>\n",
       "  </tbody>\n",
       "</table>\n",
       "</div>"
      ],
      "text/plain": [
       "            metroUnemployment  metroLaborForce  stateInitialUnemplClaims  \\\n",
       "2017-01-01           4.372032        2280244.0                   17126.0   \n",
       "2017-02-01           4.505980        2302385.0                   14926.0   \n",
       "2017-03-01           4.301741        2311111.0                   16031.0   \n",
       "2017-04-01           4.214475        2304415.0                   27341.0   \n",
       "2017-05-01           4.488021        2298051.0                   17453.0   \n",
       "\n",
       "            stateContinuedUnemplClaims  stateLaborForce   pricecut  inventory  \\\n",
       "2017-01-01                    103441.0        2644857.0  17.951161    20996.0   \n",
       "2017-02-01                    102187.0        2651409.0  18.289892    21224.0   \n",
       "2017-03-01                     98029.0        2657960.0  18.797798    21545.0   \n",
       "2017-04-01                    137549.0        2664512.0  18.363505    21601.0   \n",
       "2017-05-01                    118559.0        2669723.0  19.340071    21298.0   \n",
       "\n",
       "            foreclosures  sold4Loss  rentMultifam  price2rent  rentSFR  \\\n",
       "2017-01-01        1.1361      14.19        1169.0       14.51   1348.0   \n",
       "2017-02-01        1.0924      14.51        1167.0       14.53   1350.0   \n",
       "2017-03-01        1.0691      13.67        1164.0       14.58   1352.0   \n",
       "2017-04-01        0.7429      13.25        1162.0       14.55   1353.0   \n",
       "2017-05-01        0.4268      13.11        1164.0       14.53   1357.0   \n",
       "\n",
       "            rentAllHomes  inventoryAge  sold4Gain  daysOnZillow   metroIncome  \n",
       "2017-01-01        1325.0          71.0      85.81         76.50  57850.748928  \n",
       "2017-02-01        1325.0          62.0      85.49         75.25  57982.201923  \n",
       "2017-03-01        1326.0          54.0      86.33         68.75  58113.654917  \n",
       "2017-04-01        1327.0          48.0      86.75         65.00           NaN  \n",
       "2017-05-01        1331.0          48.0      86.89         64.00           NaN  "
      ]
     },
     "execution_count": 262,
     "metadata": {},
     "output_type": "execute_result"
    }
   ],
   "source": [
    "metroMonthly['Phoenix'].tail()"
   ]
  },
  {
   "cell_type": "markdown",
   "metadata": {},
   "source": [
    "# Dump the data to file"
   ]
  },
  {
   "cell_type": "code",
   "execution_count": 263,
   "metadata": {},
   "outputs": [],
   "source": [
    "#### DUMP ALL THE DATA\n",
    "import pickle\n",
    "\n",
    "# Master file, as dictionary of dataframes\n",
    "pickle.dump(metroMonthly,open('Data/Summary/metroMonthly.pkl','wb'))\n",
    "\n",
    "# Dump the dataframes for each of the cities\n",
    "for city in cityList:\n",
    "    pickle.dump(metroMonthly[city],open('Data/Summary/'+city+'Monthly.pkl','wb'))\n",
    "    \n",
    "pickle.dump(nationalMonthly,open('Data/Summary/nationalMonthly.pkl','wb'))"
   ]
  },
  {
   "cell_type": "code",
   "execution_count": 257,
   "metadata": {},
   "outputs": [
    {
     "data": {
      "text/html": [
       "<div>\n",
       "<style>\n",
       "    .dataframe thead tr:only-child th {\n",
       "        text-align: right;\n",
       "    }\n",
       "\n",
       "    .dataframe thead th {\n",
       "        text-align: left;\n",
       "    }\n",
       "\n",
       "    .dataframe tbody tr th {\n",
       "        vertical-align: top;\n",
       "    }\n",
       "</style>\n",
       "<table border=\"1\" class=\"dataframe\">\n",
       "  <thead>\n",
       "    <tr style=\"text-align: right;\">\n",
       "      <th></th>\n",
       "      <th>csi</th>\n",
       "      <th>cpi</th>\n",
       "      <th>natLaborForce</th>\n",
       "    </tr>\n",
       "  </thead>\n",
       "  <tbody>\n",
       "    <tr>\n",
       "      <th>2017-02-01</th>\n",
       "      <td>111.5</td>\n",
       "      <td>243.603</td>\n",
       "      <td>1.391220e+08</td>\n",
       "    </tr>\n",
       "    <tr>\n",
       "      <th>2017-03-01</th>\n",
       "      <td>113.2</td>\n",
       "      <td>243.801</td>\n",
       "      <td>1.393138e+08</td>\n",
       "    </tr>\n",
       "    <tr>\n",
       "      <th>2017-04-01</th>\n",
       "      <td>112.7</td>\n",
       "      <td>244.524</td>\n",
       "      <td>1.395056e+08</td>\n",
       "    </tr>\n",
       "    <tr>\n",
       "      <th>2017-05-01</th>\n",
       "      <td>111.7</td>\n",
       "      <td>244.733</td>\n",
       "      <td>1.395056e+08</td>\n",
       "    </tr>\n",
       "    <tr>\n",
       "      <th>2017-06-01</th>\n",
       "      <td>112.5</td>\n",
       "      <td>244.955</td>\n",
       "      <td>1.395056e+08</td>\n",
       "    </tr>\n",
       "  </tbody>\n",
       "</table>\n",
       "</div>"
      ],
      "text/plain": [
       "              csi      cpi  natLaborForce\n",
       "2017-02-01  111.5  243.603   1.391220e+08\n",
       "2017-03-01  113.2  243.801   1.393138e+08\n",
       "2017-04-01  112.7  244.524   1.395056e+08\n",
       "2017-05-01  111.7  244.733   1.395056e+08\n",
       "2017-06-01  112.5  244.955   1.395056e+08"
      ]
     },
     "execution_count": 257,
     "metadata": {},
     "output_type": "execute_result"
    }
   ],
   "source": [
    "# Example of how to load the data\n",
    "a = pickle.load(open('Data/Summary/nationalMonthly.pkl','rb'))\n",
    "a.tail()"
   ]
  }
 ],
 "metadata": {
  "kernelspec": {
   "display_name": "Python 3",
   "language": "python",
   "name": "python3"
  },
  "language_info": {
   "codemirror_mode": {
    "name": "ipython",
    "version": 3
   },
   "file_extension": ".py",
   "mimetype": "text/x-python",
   "name": "python",
   "nbconvert_exporter": "python",
   "pygments_lexer": "ipython3",
   "version": "3.5.2"
  }
 },
 "nbformat": 4,
 "nbformat_minor": 2
}
