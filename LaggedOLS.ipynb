{
 "cells": [
  {
   "cell_type": "code",
   "execution_count": 1,
   "metadata": {},
   "outputs": [
    {
     "name": "stderr",
     "output_type": "stream",
     "text": [
      "/Users/emunsing/Documents/Coding/github/cdips_hpi_forecast/env/lib/python3.5/site-packages/statsmodels/compat/pandas.py:56: FutureWarning: The pandas.core.datetools module is deprecated and will be removed in a future version. Please use the pandas.tseries module instead.\n",
      "  from pandas.core import datetools\n"
     ]
    },
    {
     "name": "stdout",
     "output_type": "stream",
     "text": [
      "Using environment in /Users/emunsing/Documents/Coding/github/cdips_hpi_forecast/env\n",
      "Python version 3.5.2 (default, Oct 31 2016, 16:50:28) \n",
      "[GCC 4.2.1 Compatible Apple LLVM 7.3.0 (clang-703.0.31)]\n"
     ]
    }
   ],
   "source": [
    "import pandas as pd\n",
    "import numpy  as np\n",
    "import statsmodels.api as sm\n",
    "import matplotlib.pyplot as plt\n",
    "from matplotlib.pyplot import cm \n",
    "% matplotlib inline\n",
    "\n",
    "import statsmodels.formula.api as smf\n",
    "import statsmodels.tsa.api as smt\n",
    "import statsmodels.api as sm\n",
    "\n",
    "import warnings\n",
    "warnings.simplefilter(action='ignore', category=FutureWarning)\n",
    "\n",
    "import sys, os, copy\n",
    "print(\"Using environment in \"+sys.prefix)\n",
    "print(\"Python version \"+sys.version)\n"
   ]
  },
  {
   "cell_type": "code",
   "execution_count": 2,
   "metadata": {
    "collapsed": true
   },
   "outputs": [],
   "source": [
    "fname = 'Metro_Zhvi_AllHomes.csv'\n",
    "\n",
    "#  Map Zillow RegionID to metro area string\n",
    "metroRegionID = {'Dallas-Fort Worth, TX':394514,\n",
    "                     'Atlanta, GA':394347,\n",
    "                     'Phoenix, AZ':394976,\n",
    "                     'Las Vegas, NV':394775 }\n",
    "\n",
    "metroString = {'Dallas':u'Dallas-Fort Worth, TX',\n",
    "               'Atlanta':u'Atlanta, GA',\n",
    "               'Phoenix':u'Phoenix, AZ',\n",
    "               'Vegas':u'Las Vegas, NV'}"
   ]
  },
  {
   "cell_type": "code",
   "execution_count": 3,
   "metadata": {},
   "outputs": [
    {
     "data": {
      "text/plain": [
       "<matplotlib.axes._subplots.AxesSubplot at 0x105f00208>"
      ]
     },
     "execution_count": 3,
     "metadata": {},
     "output_type": "execute_result"
    },
    {
     "data": {
      "image/png": "[encoded data removed]",
      "text/plain": [
       "<matplotlib.figure.Figure at 0x10c99b978>"
      ]
     },
     "metadata": {},
     "output_type": "display_data"
    }
   ],
   "source": [
    "city = 'Atlanta'\n",
    "startDate = None #'2003-01'\n",
    "endDate = None\n",
    "\n",
    "df = pd.read_csv('Data/ZHVI/'+fname,index_col=[1])\n",
    "df = df.drop(['RegionID','SizeRank'],axis=1)\n",
    "df.columns = pd.DatetimeIndex(df.columns)\n",
    "y = df.loc[metroString[city], startDate:endDate ]\n",
    "y.plot()"
   ]
  },
  {
   "cell_type": "code",
   "execution_count": 4,
   "metadata": {},
   "outputs": [
    {
     "data": {
      "text/html": [
       "<div>\n",
       "<style>\n",
       "    .dataframe thead tr:only-child th {\n",
       "        text-align: right;\n",
       "    }\n",
       "\n",
       "    .dataframe thead th {\n",
       "        text-align: left;\n",
       "    }\n",
       "\n",
       "    .dataframe tbody tr th {\n",
       "        vertical-align: top;\n",
       "    }\n",
       "</style>\n",
       "<table border=\"1\" class=\"dataframe\">\n",
       "  <thead>\n",
       "    <tr style=\"text-align: right;\">\n",
       "      <th></th>\n",
       "      <th>L0</th>\n",
       "      <th>L1</th>\n",
       "      <th>L2</th>\n",
       "      <th>L3</th>\n",
       "      <th>L4</th>\n",
       "      <th>L5</th>\n",
       "      <th>y</th>\n",
       "      <th>trend</th>\n",
       "    </tr>\n",
       "  </thead>\n",
       "  <tbody>\n",
       "    <tr>\n",
       "      <th>1996-09-01</th>\n",
       "      <td>106900.0</td>\n",
       "      <td>106900.0</td>\n",
       "      <td>107000.0</td>\n",
       "      <td>107000.0</td>\n",
       "      <td>107000.0</td>\n",
       "      <td>106700.0</td>\n",
       "      <td>109100.0</td>\n",
       "      <td>0</td>\n",
       "    </tr>\n",
       "    <tr>\n",
       "      <th>1996-10-01</th>\n",
       "      <td>107100.0</td>\n",
       "      <td>106900.0</td>\n",
       "      <td>106900.0</td>\n",
       "      <td>107000.0</td>\n",
       "      <td>107000.0</td>\n",
       "      <td>107000.0</td>\n",
       "      <td>109400.0</td>\n",
       "      <td>1</td>\n",
       "    </tr>\n",
       "    <tr>\n",
       "      <th>1996-11-01</th>\n",
       "      <td>107500.0</td>\n",
       "      <td>107100.0</td>\n",
       "      <td>106900.0</td>\n",
       "      <td>106900.0</td>\n",
       "      <td>107000.0</td>\n",
       "      <td>107000.0</td>\n",
       "      <td>109900.0</td>\n",
       "      <td>2</td>\n",
       "    </tr>\n",
       "    <tr>\n",
       "      <th>1996-12-01</th>\n",
       "      <td>107900.0</td>\n",
       "      <td>107500.0</td>\n",
       "      <td>107100.0</td>\n",
       "      <td>106900.0</td>\n",
       "      <td>106900.0</td>\n",
       "      <td>107000.0</td>\n",
       "      <td>110600.0</td>\n",
       "      <td>3</td>\n",
       "    </tr>\n",
       "    <tr>\n",
       "      <th>1997-01-01</th>\n",
       "      <td>108300.0</td>\n",
       "      <td>107900.0</td>\n",
       "      <td>107500.0</td>\n",
       "      <td>107100.0</td>\n",
       "      <td>106900.0</td>\n",
       "      <td>106900.0</td>\n",
       "      <td>111300.0</td>\n",
       "      <td>4</td>\n",
       "    </tr>\n",
       "  </tbody>\n",
       "</table>\n",
       "</div>"
      ],
      "text/plain": [
       "                  L0        L1        L2        L3        L4        L5  \\\n",
       "1996-09-01  106900.0  106900.0  107000.0  107000.0  107000.0  106700.0   \n",
       "1996-10-01  107100.0  106900.0  106900.0  107000.0  107000.0  107000.0   \n",
       "1996-11-01  107500.0  107100.0  106900.0  106900.0  107000.0  107000.0   \n",
       "1996-12-01  107900.0  107500.0  107100.0  106900.0  106900.0  107000.0   \n",
       "1997-01-01  108300.0  107900.0  107500.0  107100.0  106900.0  106900.0   \n",
       "\n",
       "                   y  trend  \n",
       "1996-09-01  109100.0      0  \n",
       "1996-10-01  109400.0      1  \n",
       "1996-11-01  109900.0      2  \n",
       "1996-12-01  110600.0      3  \n",
       "1997-01-01  111300.0      4  "
      ]
     },
     "execution_count": 4,
     "metadata": {},
     "output_type": "execute_result"
    }
   ],
   "source": [
    "X = pd.concat([y.shift(i) for i in range(6)], axis=1,keys = ['L%s'%i for i in range(6)])\n",
    "X['y'] = y.shift(-6)\n",
    "X = X.dropna()\n",
    "X = X.assign(trend=np.arange(len(X)))\n",
    "X.head()\n"
   ]
  },
  {
   "cell_type": "code",
   "execution_count": 5,
   "metadata": {},
   "outputs": [
    {
     "data": {
      "text/html": [
       "<table class=\"simpletable\">\n",
       "<caption>OLS Regression Results</caption>\n",
       "<tr>\n",
       "  <th>Dep. Variable:</th>            <td>y</td>        <th>  R-squared:         </th> <td>   0.989</td> \n",
       "</tr>\n",
       "<tr>\n",
       "  <th>Model:</th>                   <td>OLS</td>       <th>  Adj. R-squared:    </th> <td>   0.989</td> \n",
       "</tr>\n",
       "<tr>\n",
       "  <th>Method:</th>             <td>Least Squares</td>  <th>  F-statistic:       </th> <td>   3127.</td> \n",
       "</tr>\n",
       "<tr>\n",
       "  <th>Date:</th>             <td>Thu, 20 Jul 2017</td> <th>  Prob (F-statistic):</th> <td>5.39e-228</td>\n",
       "</tr>\n",
       "<tr>\n",
       "  <th>Time:</th>                 <td>09:51:53</td>     <th>  Log-Likelihood:    </th> <td> -2183.5</td> \n",
       "</tr>\n",
       "<tr>\n",
       "  <th>No. Observations:</th>      <td>   243</td>      <th>  AIC:               </th> <td>   4383.</td> \n",
       "</tr>\n",
       "<tr>\n",
       "  <th>Df Residuals:</th>          <td>   235</td>      <th>  BIC:               </th> <td>   4411.</td> \n",
       "</tr>\n",
       "<tr>\n",
       "  <th>Df Model:</th>              <td>     7</td>      <th>                     </th>     <td> </td>    \n",
       "</tr>\n",
       "<tr>\n",
       "  <th>Covariance Type:</th>      <td>nonrobust</td>    <th>                     </th>     <td> </td>    \n",
       "</tr>\n",
       "</table>\n",
       "<table class=\"simpletable\">\n",
       "<tr>\n",
       "      <td></td>         <th>coef</th>     <th>std err</th>      <th>t</th>      <th>P>|t|</th>  <th>[0.025</th>    <th>0.975]</th>  \n",
       "</tr>\n",
       "<tr>\n",
       "  <th>Intercept</th> <td> 5760.1954</td> <td>  997.396</td> <td>    5.775</td> <td> 0.000</td> <td> 3795.215</td> <td> 7725.176</td>\n",
       "</tr>\n",
       "<tr>\n",
       "  <th>trend</th>     <td>    4.5090</td> <td>    1.920</td> <td>    2.349</td> <td> 0.020</td> <td>    0.727</td> <td>    8.291</td>\n",
       "</tr>\n",
       "<tr>\n",
       "  <th>L0</th>        <td>    5.8054</td> <td>    0.550</td> <td>   10.558</td> <td> 0.000</td> <td>    4.722</td> <td>    6.889</td>\n",
       "</tr>\n",
       "<tr>\n",
       "  <th>L1</th>        <td>   -6.7399</td> <td>    1.360</td> <td>   -4.957</td> <td> 0.000</td> <td>   -9.419</td> <td>   -4.061</td>\n",
       "</tr>\n",
       "<tr>\n",
       "  <th>L2</th>        <td>    4.3553</td> <td>    1.749</td> <td>    2.490</td> <td> 0.013</td> <td>    0.909</td> <td>    7.801</td>\n",
       "</tr>\n",
       "<tr>\n",
       "  <th>L3</th>        <td>   -2.5545</td> <td>    1.748</td> <td>   -1.462</td> <td> 0.145</td> <td>   -5.997</td> <td>    0.888</td>\n",
       "</tr>\n",
       "<tr>\n",
       "  <th>L4</th>        <td>    0.0360</td> <td>    1.355</td> <td>    0.027</td> <td> 0.979</td> <td>   -2.634</td> <td>    2.706</td>\n",
       "</tr>\n",
       "<tr>\n",
       "  <th>L5</th>        <td>    0.0561</td> <td>    0.548</td> <td>    0.102</td> <td> 0.919</td> <td>   -1.024</td> <td>    1.136</td>\n",
       "</tr>\n",
       "</table>\n",
       "<table class=\"simpletable\">\n",
       "<tr>\n",
       "  <th>Omnibus:</th>       <td>57.334</td> <th>  Durbin-Watson:     </th> <td>   0.418</td>\n",
       "</tr>\n",
       "<tr>\n",
       "  <th>Prob(Omnibus):</th> <td> 0.000</td> <th>  Jarque-Bera (JB):  </th> <td> 133.931</td>\n",
       "</tr>\n",
       "<tr>\n",
       "  <th>Skew:</th>          <td>-1.099</td> <th>  Prob(JB):          </th> <td>8.27e-30</td>\n",
       "</tr>\n",
       "<tr>\n",
       "  <th>Kurtosis:</th>      <td> 5.898</td> <th>  Cond. No.          </th> <td>2.82e+06</td>\n",
       "</tr>\n",
       "</table>"
      ],
      "text/plain": [
       "<class 'statsmodels.iolib.summary.Summary'>\n",
       "\"\"\"\n",
       "                            OLS Regression Results                            \n",
       "==============================================================================\n",
       "Dep. Variable:                      y   R-squared:                       0.989\n",
       "Model:                            OLS   Adj. R-squared:                  0.989\n",
       "Method:                 Least Squares   F-statistic:                     3127.\n",
       "Date:                Thu, 20 Jul 2017   Prob (F-statistic):          5.39e-228\n",
       "Time:                        09:51:53   Log-Likelihood:                -2183.5\n",
       "No. Observations:                 243   AIC:                             4383.\n",
       "Df Residuals:                     235   BIC:                             4411.\n",
       "Df Model:                           7                                         \n",
       "Covariance Type:            nonrobust                                         \n",
       "==============================================================================\n",
       "                 coef    std err          t      P>|t|      [0.025      0.975]\n",
       "------------------------------------------------------------------------------\n",
       "Intercept   5760.1954    997.396      5.775      0.000    3795.215    7725.176\n",
       "trend          4.5090      1.920      2.349      0.020       0.727       8.291\n",
       "L0             5.8054      0.550     10.558      0.000       4.722       6.889\n",
       "L1            -6.7399      1.360     -4.957      0.000      -9.419      -4.061\n",
       "L2             4.3553      1.749      2.490      0.013       0.909       7.801\n",
       "L3            -2.5545      1.748     -1.462      0.145      -5.997       0.888\n",
       "L4             0.0360      1.355      0.027      0.979      -2.634       2.706\n",
       "L5             0.0561      0.548      0.102      0.919      -1.024       1.136\n",
       "==============================================================================\n",
       "Omnibus:                       57.334   Durbin-Watson:                   0.418\n",
       "Prob(Omnibus):                  0.000   Jarque-Bera (JB):              133.931\n",
       "Skew:                          -1.099   Prob(JB):                     8.27e-30\n",
       "Kurtosis:                       5.898   Cond. No.                     2.82e+06\n",
       "==============================================================================\n",
       "\n",
       "Warnings:\n",
       "[1] Standard Errors assume that the covariance matrix of the errors is correctly specified.\n",
       "[2] The condition number is large, 2.82e+06. This might indicate that there are\n",
       "strong multicollinearity or other numerical problems.\n",
       "\"\"\""
      ]
     },
     "execution_count": 5,
     "metadata": {},
     "output_type": "execute_result"
    }
   ],
   "source": [
    "mod_lagged = smf.ols('y ~ trend + L0 + L1 + L2 + L3 + L4 + L5', data=X)\n",
    "res_lagged = mod_lagged.fit()\n",
    "res_lagged.summary()"
   ]
  },
  {
   "cell_type": "code",
   "execution_count": 9,
   "metadata": {},
   "outputs": [
    {
     "data": {
      "text/plain": [
       "<matplotlib.legend.Legend at 0x10d393cf8>"
      ]
     },
     "execution_count": 9,
     "metadata": {},
     "output_type": "execute_result"
    },
    {
     "data": {
      "image/png": "[encoded data removed]",
      "text/plain": [
       "<matplotlib.figure.Figure at 0x10d393630>"
      ]
     },
     "metadata": {},
     "output_type": "display_data"
    }
   ],
   "source": [
    "yhat = res_lagged.predict(X[['trend','L0','L1','L2','L3','L4','L5']])\n",
    "X['y'].plot(label='Actual')\n",
    "yhat.plot(label='predicted')\n",
    "plt.legend()"
   ]
  },
  {
   "cell_type": "code",
   "execution_count": null,
   "metadata": {
    "collapsed": true
   },
   "outputs": [],
   "source": []
  }
 ],
 "metadata": {
  "kernelspec": {
   "display_name": "Python 3",
   "language": "python",
   "name": "python3"
  },
  "language_info": {
   "codemirror_mode": {
    "name": "ipython",
    "version": 3
   },
   "file_extension": ".py",
   "mimetype": "text/x-python",
   "name": "python",
   "nbconvert_exporter": "python",
   "pygments_lexer": "ipython3",
   "version": "3.5.2"
  }
 },
 "nbformat": 4,
 "nbformat_minor": 2
}
